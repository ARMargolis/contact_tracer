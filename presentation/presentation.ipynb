#A file for the graphics we create for the presentation
